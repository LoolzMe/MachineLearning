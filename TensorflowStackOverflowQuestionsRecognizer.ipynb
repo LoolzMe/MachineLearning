{
  "nbformat": 4,
  "nbformat_minor": 0,
  "metadata": {
    "colab": {
      "name": "TensorflowStackOverflowQuestionsRecognizer.ipynb",
      "provenance": [],
      "collapsed_sections": [],
      "authorship_tag": "ABX9TyOZ3ZqZ/kgOLBmtc7I2s2Q3",
      "include_colab_link": true
    },
    "kernelspec": {
      "name": "python3",
      "display_name": "Python 3"
    },
    "language_info": {
      "name": "python"
    }
  },
  "cells": [
    {
      "cell_type": "markdown",
      "metadata": {
        "id": "view-in-github",
        "colab_type": "text"
      },
      "source": [
        "<a href=\"https://colab.research.google.com/github/LoolzMe/MachineLearning/blob/main/TensorflowStackOverflowQuestionsRecognizer.ipynb\" target=\"_parent\"><img src=\"https://colab.research.google.com/assets/colab-badge.svg\" alt=\"Open In Colab\"/></a>"
      ]
    },
    {
      "cell_type": "markdown",
      "source": [
        "Languages classifier of topics in StackOverflow. There is database with questions and related to them lenguages (Python, C#, JS, Java). "
      ],
      "metadata": {
        "id": "hsMB_xQbqrZd"
      }
    },
    {
      "cell_type": "code",
      "execution_count": 7,
      "metadata": {
        "id": "q0UdHSlJqcL8"
      },
      "outputs": [],
      "source": [
        "from os import path\n",
        "\n",
        "import tensorflow as tf\n",
        "\n",
        "\n",
        "url = \"https://storage.googleapis.com/download.tensorflow.org/data/stack_overflow_16k.tar.gz\" \n",
        "\n",
        "download_db = tf.keras.utils.get_file(\"stack_overflow_16k\", origin=url, untar=True, cache_dir='', cache_subdir='')\n",
        "\n",
        "path_db = path.dirname(download_db)\n",
        "\n"
      ]
    },
    {
      "cell_type": "code",
      "source": [
        "# path_db = '/tmp/.keras/stack_overflow_16k'\n",
        "\n",
        "from os import listdir\n",
        "print(listdir(path_db))"
      ],
      "metadata": {
        "colab": {
          "base_uri": "https://localhost:8080/"
        },
        "id": "XXmBG3gqqgHs",
        "outputId": "1385959d-462c-4035-ec4d-d88ff5867145"
      },
      "execution_count": 8,
      "outputs": [
        {
          "output_type": "stream",
          "name": "stdout",
          "text": [
            "['stack_overflow_16k.tar.gz', 'test', 'train', 'README.md']\n"
          ]
        }
      ]
    },
    {
      "cell_type": "code",
      "source": [
        "seed = 42\n",
        "\n",
        "raw_train_dir = tf.keras.utils.text_dataset_from_directory(\n",
        "    path.join(path_db, 'train'), validation_split=0.2, seed=seed,\n",
        "    subset='training' \n",
        ")"
      ],
      "metadata": {
        "colab": {
          "base_uri": "https://localhost:8080/"
        },
        "id": "Y53egnLTynie",
        "outputId": "aecfee38-b326-42b8-f9b9-75b8bdbc01c1"
      },
      "execution_count": 9,
      "outputs": [
        {
          "output_type": "stream",
          "name": "stdout",
          "text": [
            "Found 8000 files belonging to 4 classes.\n",
            "Using 6400 files for training.\n"
          ]
        }
      ]
    },
    {
      "cell_type": "code",
      "source": [
        "\n",
        "raw_valid_dir = tf.keras.utils.text_dataset_from_directory(\n",
        "    path.join(path_db, 'train'), validation_split=0.2, seed=seed,\n",
        "    subset='validation' \n",
        ")"
      ],
      "metadata": {
        "colab": {
          "base_uri": "https://localhost:8080/"
        },
        "id": "QUlZD_1OzKPP",
        "outputId": "9bd6cf62-610d-4214-8afd-9d110dc73731"
      },
      "execution_count": 10,
      "outputs": [
        {
          "output_type": "stream",
          "name": "stdout",
          "text": [
            "Found 8000 files belonging to 4 classes.\n",
            "Using 1600 files for validation.\n"
          ]
        }
      ]
    },
    {
      "cell_type": "code",
      "source": [
        "raw_test_dir = tf.keras.utils.text_dataset_from_directory(\n",
        "    path.join(path_db, 'test')\n",
        ")"
      ],
      "metadata": {
        "colab": {
          "base_uri": "https://localhost:8080/"
        },
        "id": "BQzH5_d24cXn",
        "outputId": "b62b0280-9727-455c-8791-204f35b0c490"
      },
      "execution_count": 24,
      "outputs": [
        {
          "output_type": "stream",
          "name": "stdout",
          "text": [
            "Found 8000 files belonging to 4 classes.\n"
          ]
        }
      ]
    },
    {
      "cell_type": "code",
      "source": [
        "print(raw_valid_dir.class_names)"
      ],
      "metadata": {
        "colab": {
          "base_uri": "https://localhost:8080/"
        },
        "id": "Qn5SgS8PzhhL",
        "outputId": "a551f80e-416e-4014-8bff-ca3be5729973"
      },
      "execution_count": 11,
      "outputs": [
        {
          "output_type": "stream",
          "name": "stdout",
          "text": [
            "['csharp', 'java', 'javascript', 'python']\n"
          ]
        }
      ]
    },
    {
      "cell_type": "code",
      "source": [
        "for text, label in raw_train_dir.take(5):\n",
        "  for i in range(3):\n",
        "    print(\"text \", text.numpy()[i])\n",
        "    print(\"language \", label.numpy()[i])"
      ],
      "metadata": {
        "colab": {
          "base_uri": "https://localhost:8080/"
        },
        "id": "fdDBGO-Kztiq",
        "outputId": "f1f259f8-1b9b-4422-8ecc-847b268c9584"
      },
      "execution_count": 15,
      "outputs": [
        {
          "output_type": "stream",
          "name": "stdout",
          "text": [
            "text  b'\"set blank to quit on exception? i\\'m using blank 3..i\\'ve been looking around for an answer to this, but i haven\\'t found it yet. basically, i\\'m running several blank scripts into a game engine, and each script has its own entry point...i\\'d rather not add try: except blocks through all of my code, so i was wondering if it\\'s at all possible to tell blank to quit (or perhaps assign a custom function to that \"\"callback\"\") on finding its first error, regardless of where or what it found? ..currently, the game engine will continue after finding and hitting an error, making it more difficult than necessary to diagnose issues since running into one error may make a subsequent script not work (as it relies on variables that the error-ing script set, for example). any ideas? ..i know that i could redirect the console to a file to allow for easier scrolling, but just capturing the first error and stopping the game prematurely would be really useful...okay, a couple of extra bits of info - sorry for neglecting to say this. the engine i\\'m using (the blender game engine) is coded in c, so changing the source is more than i\\'d like to do.....after googling, it would appear that a similar question with a solid answer has been asked here, which is how to get the last raised exception. if i check the sys module for the presence of the last_value variable and it exists, then i can quit prematurely, as the console would have already printed out the error...thanks for the help.\"\\n'\n",
            "language  3\n",
            "text  b'\"how do i convert a binary image into an in-memory data structure in blank? context: ...i am using blank 2.6.5...goal:...read a binary image file and represent it in-memory. then run a checksum on it. deliver the binary representation to be stored as a blob in mysql....comments:...i have read this so thread..i have looked at the struct module. .i also have bumped into the io module..with all the available options, i am not certain which is the best solution. the bytesio data structure seems to be suitable for my needs. which one do you think will meet my requirements ?\"\\n'\n",
            "language  3\n",
            "text  b'\"adding an array of div ids to a var so i have animate multiple divs across site i found some js on github that did what i needed it to do with the exception of being able to have multiple hand/glove animations on different pages of the site. the original js called the div id and i assumed that the var needed an array of the existing div ids.  i tried that and it did not work. i am not a js or jquery guru at all but i can implement and tweak most of the time. ..i have set up a fiddle so you can see how the original js is working with my code. i just need both div containers to animate the corresponding png that is called in the css for the separate div ids...http://jsfiddle.net/haagmeister/38lb2/14/..the code pulled from the cms and the second div is not animating.. i assume it is because the calling of the var is not set up properly to pull from the array?..&lt;!doctype html public \"\"-//w3c//dtd xhtml 1.0 transitional//en\"\" \"\"http://www.w3.org/tr/xhtml1/dtd/xhtml1-transitional.dtd\"\"&gt;.&lt;html xmlns=\"\"http://www.w3.org/1999/xhtml\"\"&gt;.&lt;head&gt;.&lt;meta http-equiv=\"\"content-type\"\" content=\"\"text/html; charset=utf-8\"\" /&gt;.&lt;title&gt;untitled document&lt;/title&gt;.&lt;style type=\"\"text/css\"\"&gt;.#new-headers-container{.width: 1024px;.height: 430px;.border: none;.margin: 0;.padding: 0;.}.#sports-gloves-container{.width: 411px;.height: 430px;.overflow: hidden;.float: left;.background: url(\\'http://popticals.com/template/sportheaders/circle-animation.gif\\') no-repeat 0 0;.border: none;.margin: 0;.padding: 0;.}.#golf-glove{.width: 284px;.height: 430px;.overflow: hidden;.float: left;.background: url(\\'http://popticals.com/template/sportheaders/gloves/golf-glove.png\\') no-repeat 0 0;.border: none;.margin: 0px 0px 0px 86px;.padding: 0;.}.#bike-glove{.width: 284px;.height: 430px;.overflow: hidden;.float: left;.background: url(\\'http://popticals.com/template/sportheaders/gloves/bike-glove.png\\') no-repeat 0 0;.border: none;.margin: 0px 0px 0px 86px;.padding: 0;.}.&lt;/style&gt;..&lt;script type=\\'text/blank\\'&gt;.(function($) {..        // you should change these variables.        var numberofsteps = 5;.        var heightofonestep = 430;.        var idofanimateddiv = [\"\"golf-glove\"\",\"\"bike-glove\"\"];.        var timebetweensteps = 60;..        // you probably won\\'t have to change these.        var index = -1;.        var direction = \"\"+\"\";.        var steps = [];.        var timeoutduration;...        // instantiate steps with the correct heights of the png.        for (var i = 0; i &lt;= numberofsteps - 1; i++) {.            steps.push( heightofonestep * i );.        }..        var interval = settimeout(function() {..            // reset timeoutduration.            if ( timeoutduration != timebetweensteps ) {.                timeoutduration = timebetweensteps;.            }..            // increment or decrement index.            if ( direction == \"\"+\"\" ) {.                index++;.            } else {.                index--;    .            }..            // reverse direction if we are at the beginning or end of the animation.            if (index == numberofsteps) {..               direction = \"\"-\"\";.               timeoutduration = 10000;..            } else if ( index == -1 ) {..                direction = \"\"+\"\";.                timeoutduration = 750;..            }...            $(\\'#\\' + idofanimateddiv ).css(\\'backgroundposition\\', \\'0px -\\' + steps[index] + \\'px\\');..            settimeout(arguments.callee, timeoutduration);..        }, 1000);..    })(jquery);.&lt;/script&gt;.&lt;/head&gt;..&lt;body&gt;.&lt;div id=\"\"sports-gloves-container\"\"&gt;.    &lt;div id=\"\"golf-glove\"\"&gt;&lt;/div&gt;.&lt;/div&gt;.&lt;div id=\"\"sports-gloves-container\"\"&gt;.    &lt;div id=\"\"bike-glove\"\"&gt;&lt;/div&gt;.&lt;/div&gt;.&lt;/body&gt;.&lt;/html&gt;\"\\n'\n",
            "language  2\n",
            "text  b'\"how does streamreader read all chars, including 0x0d 0x0a chars? how does streamreader read all chars, including 0x0d 0x0a chars?..i have an old .txt file i am trying to covert.  many lines (but not all) end with \"\"0x0d 0x0d 0x0a\"\".  ..this code reads all of the lines. ..streamreader srfile = new streamreader(gstpathfilename);.while (!srfile.endofstream) {.    string stfilecontents = srfile.readline();.    ....}...this results in extra \"\"\"\" strings between each .txt line.  as there are some blank lines between the paragraphs, removing all \"\"\"\" strings removes those blank lines...is there a way to have streamreader read all of the chars including the \"\"0x0d 0x0d 0x0a\"\"?....edited two hours later ... the file is huge, 1.6mb.\"\\n'\n",
            "language  0\n",
            "text  b'\"how to fetch attachment from outlook email in winforms? microsoft.office.interop.outlook.application application = new microsoft.office.interop.outlook.application();..                    microsoft.office.interop.outlook.mapifolder inbox = application.activeexplorer().session.getdefaultfolder(microsoft.office.interop.outlook.oldefaultfolders.olfolderinbox);.                    microsoft.office.interop.outlook.items inboxitems = inbox.items;.                    microsoft.office.interop.outlook.mailitem newemail = null;..                    foreach (object collectionitem in inboxitems).                    {.                        newemail = collectionitem as microsoft.office.interop.outlook.mailitem;.                        if (newemail != null).                        {.                            if (newemail.attachments.count &gt; 0).                            {.                                for (int i = 1; i &lt;= newemail.                                    .attachments.count; i++).                                {.                                    newemail.attachments[i].saveasfile.                                        (@\"\"c:testfilesave\"\" +.                                        newemail.attachments[i].filename);.                                }.                            }.                        }.                    }...i have copy mail from outlook and paste into flex-grid in window application but getting zero attachment count but in mail there are attachments like excel , doc , etc. files.\"\\n'\n",
            "language  0\n",
            "text  b'\"insert an element at specific place in a list i have a problem using list.insert method. you can see my code below...z=[1,9,6,5,5,3,4,6].y=[\\'1\\',\\'4\\',\\'9\\',\\'7\\',\\'6\\',\\'5\\',\\'5\\',\\'1\\',\\'5\\',\\'0\\',\\'3\\',\\'3\\',\\'4\\',\\'1\\',\\'6\\',\\'0\\'].z.insert(z[0],int(y[1])).print(z).[1, 4, 9, 6, 5, 5, 3, 4, 6].z.insert(z[2],int(y[3])).print(z).[1, 4, 9, 6, 5, 5, 3, 4, 6, 7]...why does 7 go after 6 and not after 9????.thanks in advance!!\"\\n'\n",
            "language  3\n",
            "text  b'\"multiple equal testing for arbitrary length of a list[str] to solve longestcommonprefix i am working on longest common prefix - leetcode...  write a function to find the longest common prefix string amongst an array of strings..  .  if there is no common prefix, return an empty string \"\"\"\"..  .  example 1:.  .  input: [\"\"flower\"\",\"\"flow\"\",\"\"flight\"\"].output: \"\"fl\"\"..  .  example 2:.  .  input: [\"\"dog\"\",\"\"racecar\"\",\"\"car\"\"].explanation: there is no common prefix among the input strings...  .  note:.  .  all given inputs are in lowercase letters a-z...i design such a solution..def longestcommonprefix(self, strs: list[str]) -&gt; str:.    res = \\'\\'.    #base case 1.    if len(strs) &lt; 1: return res.    size = min(len(s) for s in strs).    #base case 2 one of them is empty .    if size &lt; 1: return res ..    #iteration case .    for i in range(size):.        if strs[0][i] == strs[1][i] == str[2][i]:.            res += strs[0][i].        else: break ...if if strs[0][i] == strs[1][i] == strs[2][i]: add the element to res ..however, in my solution,the length of strs is fixed as three, the given condition is a arbitrary length of strs..how could write such an expression like ..            if strs[0][i] == strs[1][i] == str[s2][i] ....strs[length-1][i]:...for else solution: ..    #iteration case .    for i in range(size):.        prefix = strs[0][i].        for j in range(1, len(strs)): #check the chain equal .            if strs[j][i] != prefix: break .        else:.            res += prefix..    return res\"\\n'\n",
            "language  3\n",
            "text  b'\"problems adding syntax highlighter to blogger i\\'m trying to add syntax highlighter to my new blog at blogger. for some reason i keep getting these errors:...  uncaught referenceerror: syntaxhighlighter is not defined uncaught.  .  referenceerror: xregexp is not defined shcore.js:123 uncaught.  .  typeerror: cannot read property \\'config\\' of undefined...here is my code:..&lt;script src=\\'https://xarpixels.googlecode.com/files/shautoloader.js\\'/&gt;.&lt;script src=\\'https://xarpixels.googlecode.com/files/shcore.js\\'/&gt;.&lt;script type=\"\"text/blank\"\"&gt;.    $(document).ready(function(){.      syntaxhighlighter.config.bloggermode = true;.      syntaxhighlighter.autoloader(.        \\'js  https://xarpixels.googlecode.com/files/shbrushjscript.js\\',.        \\'php  https://xarpixels.googlecode.com/files/shbrushphp.js\\',.        \\'sass  https://xarpixels.googlecode.com/files/shbrushsass.js\\',.        \\'sql  https://xarpixels.googlecode.com/files/shbrushsql.js\\',.        \\'xml  https://xarpixels.googlecode.com/files/shbrushxml.js\\',.        \\'css  https://xarpixels.googlecode.com/files/shbrushcss.js\\'.      );.      syntaxhighlighter.all();.    });.&lt;/script&gt;...to me, everything looks correct?..edit: i noticed that when i change the path to any of the files in the demo, the script breaks and doesn\\'t work. this isn\\'t making any sense at all...\"\\n'\n",
            "language  2\n",
            "text  b'\"overriding equals operator i am trying to override equals so that it compares based on a variable id:..public class orderid.{.    public string id { get; private set; }..    public orderid(string id).    {.        id = id;.    }..    public override bool equals(object obj).    {.        if (obj is orderid).        {.            return ((orderid)obj).id == id;.        }.        else return false;.    }..    public override string tostring().    {.        return id;.    }.}...however when i test this in the following manner it returns false:..static void main(string[] args).{..    orderid i1 = new orderid(\"\"hello\"\");.    orderid i2 = new orderid(\"\"hello\"\");..    bool test = i1 == i2;..    console.writeline(test.tostring());.    console.readkey();.}...what is the problem? when i try to step through it, my override is not even stepped into.\"\\n'\n",
            "language  0\n",
            "text  b'\"method that adds elements to set always throwing custom exception ok, so i\\'ve got a method which adds elements to a list but it is always throwing my custom exception, no matter what, even when there are no elements in the set i made...private set&lt;plan&gt; planset = new hashset&lt;plan&gt;();.public plan createplan(string name) throws duplicateplan{.    plan plan = new plan(name);...    if(!planset.contains(plan)){.        planset.add(plan);.    } else {.        throw(new duplicateplan(\"\"error, duplicate plan\"\"));.    }..    return plan;.}...i\\'m thinking that my equals() and hashcode() methods are causing this. currently i\\'m using the default overridden eclipse hashcode() and equals(), this is what i\\'ve got there:..@override.public int hashcode() {.    final int prime = 31;.    int result = 1;.    result = prime * result + ((name == null) ? 0 : name.hashcode());.    return result;.}..@override.public boolean equals(object obj) {.    if (this == obj){.        return true;.    } if (obj == null){.        return false;.    } if (getclass() != obj.getclass()){.        return false;.            }.    plan other = (plan) obj;.    if (name == null) {.        if (other.name != null){.            return false;.                    }.    } else if (!name.equals(other.name)){.        return false;.            }.    return true;.}...this is what plan does:..private string name;.private set&lt;tables&gt; tablesset;...public plan(string name){.    this.name = name ;.}...here\\'s what\\'s supposed to happen if a user sets the same name in the textfield:..newplan.setonaction(new eventhandler&lt;actionevent&gt;(){.        @override.        public void handle(actionevent action){.            if(!newplan.gettext().isempty()){.                try {.                    string name = planname.gettext();.                    plan.createplan(name);.                    esquema =             esquemas.createplan(planname.gettext());.                    optionsplans.getitems().add(plan.getname());.                } catch (duplicateplan e) {.                    dialog.errordialog(planerror, duplicate);.                }.            } else {.                dialog.errordialog(empty, emptyspace);.            }.        }.    });\"\\n'\n",
            "language  1\n",
            "text  b'\"cannot access value of object property i am looping though an object to retrieve some properties but for some reason i cannot access the value of a nested object property...this is my looping function:..  parsecontacts = (contacts) =&gt; {.    return contacts.map(contact =&gt; {.      let parsedcontact = {};.      object.keys(contact).foreach(key =&gt; {.        if (key === \\'givenname\\') {.          parsedcontact.firstname = contact[key];.        } if (key === \\'familyname\\') {.          parsedcontact.surname = contact[key];.        } if (key === \\'phonenumbers\\') {.          parsedcontact.phonenumber = contact[key][0].number;.        }.      }).      return parsedcontact;.    }).  }...firstname and surname work fine, but in the last if statement i get undefined. the property with key phonenumbers it is an array of objects, and this is item 0 in the array:..{id: \"\"302\"\", label: \"\"mobile\"\", number: \"\"+44 7x7x 50xx72\"\"}...when i use this code instead:..} if (key === \\'phonenumbers\\') {.          parsedcontact.phonenumber = contact[key][0];.        }...without .number on the end i get the whole object back fine, i just can\\'t get back only the number property from the object...update..on closer inspection, the array which has over 800 large objects in, some of the lengths of the phonenumbers arrays were 0 so the property did not exist. this was causing the whole function to fail. thanks for the comments below...my solution was to add to the if statement:..if (key === \\'phonenumbers\\' &amp;&amp; contact[key].length)\"\\n'\n",
            "language  2\n",
            "text  b'\"i can\\'t type anything on certain scanner i\\'ve been creating a simple library system for the past few days, i have completed the population per shelf, displays, etc. thanks to this site. currently, i\\'m having trouble with a borrower borrowing either a physical book, or download an e-book or borrow an equipment. firstly, there was a null point exception error when running, an error when calling the borrowbookph, and lastly, i don\\'t know if the book is really being borrowed or downloaded. ..i\\'ve posted a shortened code of my library project...edit: i\\'ve managed to figure out what\\'s causing my problem. and surfaced a new one, right now my problem is that i can\\'t type any string when asked \"\"input book/equipment name:\"\" there are no errors / warnings on my code...driver class: ..system.out.println(\"\"input borrower: \"\");.    int borrowerid = sc.nextint();..    switch(borrowerid){..    case 11074450: system.out.println(\"\"1. physical 2. digital 3. equipment: \"\");.                    int choice = sc.nextint();.                    switch(choice){.                        case 1: system.out.println(\"\"input book name: \"\");.                                string borrowip = sc.nextline();.                                for(int i = 0; i &lt; ph.size(); i++){.                                    if(borrowip.equals(ph.get(i).gettitle())).                                        brw1.borrowbookph(ph.get(i));.                                }.                                break;.                        case 2: system.out.println(\"\"input book name: \"\");.                                string borrowid = sc.nextline();.                                for(int i = 0; i &lt; dg.size(); i++){.                                    if(borrowid.equals(dg.get(i).gettitle())).                                        brw1.downloadbookdg(dg.get(i));.                                }.                                break;.                        case 3: system.out.println(\"\"input equipment name: \"\");.                                string borrowie = sc.nextline();.                                for(int i = 0; i &lt; eqp.size(); i++){.                                    if(borrowie.equals(eqp.get(i).getname())).                                        brw1.borroweq(eqp.get(i));.                                }.                                break;.                    }.                    break;.    case 10355230: system.out.println(\"\"1. physical 2. digital 3. equipment: \"\");.                    int choice2 = sc.nextint();.                    switch(choice2){.                        case 1: system.out.println(\"\"input book name: \"\");.                                string borrowip = sc.nextline();.                                for(int i = 0; i &lt; ph.size(); i++){.                                    if(borrowip.equals(ph.get(i).gettitle())).                                        brw2.borrowbookph(ph.get(i));.                                    }.                                break;.                        case 2: system.out.println(\"\"input book name: \"\");.                                string borrowid = sc.nextline();.                                for(int i = 0; i &lt; dg.size(); i++){.                                    if(borrowid.equals(dg.get(i).gettitle())).                                        brw2.downloadbookdg(dg.get(i));.                                    }.                                break;.                        case 3: system.out.println(\"\"input equipment name: \"\");.                                string borrowie = sc.nextline();.                                for(int i = 0; i &lt; eqp.size(); i++){.                                    if(borrowie.equals(eqp.get(i).getname())).                                        brw2.borroweq(eqp.get(i));.                                }.                                break;.                    }.                    break;.    case 11423970: system.out.println(\"\"1. physical 2. digital 3. equipment: \"\");.                    int choice3 = sc.nextint();.                    switch(choice3){.                        case 1: system.out.println(\"\"input book name: \"\");.                                string borrowip = sc.nextline();.                                for(int i = 0; i &lt; ph.size(); i++){.                                    if(borrowip.equals(ph.get(i).gettitle())).                                        brw3.borrowbookph(ph.get(i));.                                }.                                break;.                        case 2: system.out.println(\"\"input book name: \"\");.                                string borrowid = sc.nextline();.                                for(int i = 0; i &lt; dg.size(); i++){.                                    if(borrowid.equals(dg.get(i).gettitle())).                                        brw3.downloadbookdg(dg.get(i));.                                }.                                break;.                        case 3: system.out.println(\"\"input equipment name: \"\");.                                string borrowie = sc.nextline();.                                for(int i = 0; i &lt; eqp.size(); i++){.                                    if(borrowie.equals(eqp.get(i).getname())).                                        brw3.borroweq(eqp.get(i));.                                }.                                break;.                    }.                    break;.    case 11092001: system.out.println(\"\"1. physical 2. digital 3. equipment: \"\");.                    int choice4 = sc.nextint();.                    switch(choice4){.                        case 1: system.out.println(\"\"input book name: \"\");.                                string borrowip = sc.nextline();.                                for(int i = 0; i &lt; ph.size(); i++){.                                    if(borrowip.equals(ph.get(i).gettitle())).                                        brw4.borrowbookph(ph.get(i));.                                }.                                break;.                        case 2: system.out.println(\"\"input book name: \"\");.                                string borrowid = sc.nextline();.                                for(int i = 0; i &lt; dg.size(); i++){.                                    if(borrowid.equals(dg.get(i).gettitle())).                                        brw4.downloadbookdg(dg.get(i));.                                }.                                break;.                        case 3: system.out.println(\"\"input equipment name: \"\");.                                string borrowie = sc.nextline();.                                for(int i = 0; i &lt; eqp.size(); i++){.                                    if(borrowie.equals(eqp.get(i).getname())).                                        brw4.borroweq(eqp.get(i));.                                }.                                break;.                    }.                    break;.    case 10911550: system.out.println(\"\"1. physical 2. digital 3. equipment: \"\");.                    int choice5 = sc.nextint();.                    switch(choice5){.                        case 1: system.out.println(\"\"input book name: \"\");.                                string borrowip = sc.nextline();.                                for(int i = 0; i &lt; ph.size(); i++){.                                    if(borrowip.equals(ph.get(i).gettitle())).                                        brw5.borrowbookph(ph.get(i));.                                }.                                break;.                        case 2: system.out.println(\"\"input book name: \"\");.                                string borrowid = sc.nextline();.                                for(int i = 0; i &lt; dg.size(); i++){.                                    if(borrowid.equals(dg.get(i).gettitle())).                                        brw5.downloadbookdg(dg.get(i));.                                }.                                break;.                        case 3: system.out.println(\"\"input equipment name: \"\");.                                string borrowie = sc.nextline();.                                for(int i = 0; i &lt; eqp.size(); i++){.                                    if(borrowie.equals(eqp.get(i).getname())).                                        brw5.borroweq(eqp.get(i));.                                }.                                break;.                    }.                    break;.    }...borrower class:..private physical borrowedp;.private digital borrowedd;.private equipment borrowede;..public void borrowbookph(physical borrow){..    this.borrowedp = borrow;.    this.borrowedp.borrowph(this);..public void downloadbookdg(digital borrow){..    this.borrowedd = borrow;.    this.borrowedd.borrowdg(this);.    this.borrowedd.countdownload();..}..public void borroweq(equipment borrow){..    this.borrowede = borrow;.    this.borrowede.borroweq(this);..}...physical class: ..    public void borrowph(borrower borrower){..    this.isavailable = false;.    this.borrower = borrower;..}..public void returnph(){..    this.isavailable = true;.    this.borrower = null;..}...digital class:..    public void countdownload(){..    this.count += 1;..}..public void showdownload(){..    system.out.println(this.count);.}..public void borrowdg(borrower borrower){..    this.status = false;.    this.borrower = borrower;.    countdownload();..}...equipment class:..    public void borroweq(borrower borrower){..    this.isavailable = false;.    this.borrower = borrower;..}...huhu. please help. this \\'i can\\'t type anything\\' is frustrating.\"\\n'\n",
            "language  1\n",
            "text  b'\"blank list comprehension and lowercase i have a dictionary that has mixed case values.  i do not want to change everything to lowercase but what i want to do is use dictionary comprehension to get the values out but have those values be lowercase.  ..employeeids = [employee.get(\\'externalemployeeid\\', \\'\\') for employee in activeemployees]...at the moment this is returning mixed case in the employeeids result.  i know i can go to a more traditional for loop - but i am curious if i can make this convert to lowercase, also.  i can\\'t just put .lower() after the paren because it can return none which does not support lowercase.  and i could put \\' \\' instead of \\'\\' in this specific case but it seems to me i should be able to put some kind of expression here instead of just the .get?\"\\n'\n",
            "language  3\n",
            "text  b'where is the blank.exe that launched me? is there some way i can find the path to the blank.exe that launched me?..in this case i am on windows but if there is a general solution i would welcome it...added..fyi: in most cases my tool will be launched from a full path to an unregistered blank.exe. e.g. c:abcdefsdkjrebinblank -jar mytool.jar. can i find the c:abcdefsdkjrebin...yes it is rather self-referential. :)\\n'\n",
            "language  1\n",
            "text  b'\"query on blank control flow statements and lambda exp in blank, we say everything is an object,..for instance: expression x&lt;y internally calls x.__lt__(y)..where __lt__ is the method in object  of class(\\'int\\' say if values are 2 &amp; 3) and x and y are reference variables to objects..and..user defined function square(3) internally calls square.__call__(3).where \\'square\\' is the name of an object of class \\'function\\' and reference variable \\'square\\' points to that object name \\'square\\'...so,..how are if-elif-else, for, break, continue, pass, lambda statements interpreted internally? as objects?..if yes, can you give some examples to visualise in similar above manner?\"\\n'\n",
            "language  3\n"
          ]
        }
      ]
    },
    {
      "cell_type": "code",
      "source": [
        "max_features = 100000\n",
        "seq_len = 250 \n",
        "\n",
        "\n",
        "vectorize_layer = tf.keras.layers.TextVectorization(max_tokens=max_features,\n",
        "                                                    output_sequence_length=seq_len)\n",
        "\n"
      ],
      "metadata": {
        "id": "rU6Q5Aq41zXz"
      },
      "execution_count": 18,
      "outputs": []
    },
    {
      "cell_type": "code",
      "source": [
        "train_questions = raw_train_dir.map(lambda x, y : x)\n",
        "vectorize_layer.adapt(train_questions)\n"
      ],
      "metadata": {
        "id": "_m-qr2hq2dx9"
      },
      "execution_count": 19,
      "outputs": []
    },
    {
      "cell_type": "code",
      "source": [
        "print(list(train_questions)[1])"
      ],
      "metadata": {
        "colab": {
          "base_uri": "https://localhost:8080/"
        },
        "id": "8sPU69Av3i2U",
        "outputId": "1a238cf9-711c-4a0d-fa91-b26c1b0c1b9d"
      },
      "execution_count": 22,
      "outputs": [
        {
          "output_type": "stream",
          "name": "stdout",
          "text": [
            "tf.Tensor(\n",
            "[b'\"calculating bandwidth #2 i was successfully calculate bandwidth consumed by my application (which connects to web service to send files) using [this][1].  [1]: calculating bandwidth i used the code provided by rasmus faber... one thing puzzled me: the received bytes is far too more than sent bytes... as far as i am concerned i am sending images, xml files etc and returning error codes.. therefore the sent bytes should be more? ....\"\\n'\n",
            " b'\"how can i convert contiguous letters to number separated by dash in blank? i\\'d like to convert alphabet letters to numbers and if the alphabet letters are contiguous, i want to make it separated by dash (-). i will leave non-alphabetic character unchanged shown below:..input string: \"\"20 pizzas an!d, 1 apple a b c\"\"..output string: \"\"20 16-9-26-26-1-19 1-14!4, 1 1-16-16-12-5 1 2 3\"\"...note: a/a =1, b/b =2, ... y/y = 25, z/z = 26\"\\n'\n",
            " b'\"hide content inside brackets using pure blank i want to use pure blank to hide all content inside brackets in a document. for example, this: ...  sometext [info]...would be replaced with this:...  sometext...with jquery i can do this with:..&lt;script type=\"\"text/blank\"\"&gt;.    jquery(document).ready(function(){.        var replaced = jquery(\"\"body\"\").html().replace(/[.*]/g,\\'\\');.        jquery(\"\"body\"\").html(replaced);.    });.&lt;/script&gt;\"\\n'\n",
            " b'\"parameter with question mark and super in blank, i\\'ve come across a method that is formatted like this:..public final subscription subscribe(final action1&lt;? super t&gt; onnext, final action1&lt;throwable&gt; onerror) {.}...in the first parameter, what does the question mark and super mean?\"\\n'\n",
            " b'\"overwrite global variables i have two modules:..constants.py..def define_sizes(supersample):    .    global supersample.    global width.    global height.    global line_width..    supersample = supersample.    width = 1280*supersample.    height = 854*supersample.    line_width = 1*supersample..define_sizes(1)...test.py..from constants import *...print(width, height, line_width).# draw something..define_sizes(4)..print(width, height, line_width).# draw the same thing, but bigger...the result is:..1280 854 1.1280 854 1...i would expect to get:..1280 854 1.5120 3416 4...why is that? what am i missing? can i fix it to give expected results?\"\\n'\n",
            " b'\"blank error: import module not found i am trying to run a blank api on my ec2,. i have been developing the application on my mac using pycharm and i can compile it because i have the main directory as \"\"root for the modules\"\".when trying to run my code off from any terminal, i am getting this error...file \"\"runserver.py\"\", line 2, in &lt;module&gt;.from app import app.file \"\"path to the __init__.py file\"\", line 12,    in &lt;module&gt;.import call.authien.modulenotfounderror: no module named \\'call\\'...here is my file structure:..api.|-- runserver.py.`-- app. |-- __init__.py. |-- call.  |-- __init__.py.  |   `-- authien.py. |-- routes. |-- models...the import modules are inside the app/__init__.py..from flask import flask.from flask_httpauth import httpbasicauth.from flask_sqlalchemy import sqlalchemy.from werkzeug.utils import secure_filename.import os.app = flask(__name__,static_url_path=\\'\\').app.config.from_object(\\'config\\')..db = sqlalchemy(app).auth = httpbasicauth()..import call.authien..import routes.users.import routes.hours.import routes.pref\"\\n'\n",
            " b'\"pipedreader.ready() does not throw exception when writer is already closed i am using the method ready() of pipedreader to avoid blocking for input, but unfortunately if the writer has gone this method is not throwing an ioexception (contrary to method read(), but this one is blocking)...what are the alternatives? is there a non-blocking way to check that the writer has gone?..ps: i suppose this is a bug in ready(), because read() returns -1 when the writer has gone, but ready() keeps returning false.\"\\n'\n",
            " b'\"printing by prototype not working in js i am trying to make a constructor function. then i am trying to use its prototype and printing \"\"peter\"\". but it is showing an error. ....function main(){..   var func1 = function(){. this.name = \"\"peter\"\";. this.age = 27; . this.class = \"\"10\"\";.   }..   func1.prototype.printname = function(){. console.log(this.name);.   }..   return func1; .}..var a = main();..a.printname();\"\\n'\n",
            " b\"is there any good alternative for blank's webkit module that works on windows? is there any official good alternative for webkit that works on windows?\\n\"\n",
            " b'\"print a reportviewer automatically when you open a form is it possible, when i open a form with reportviewer inside to print it automatically without need to press the printer button and without show me printdialog...just to put a code  in form_load and to print it automatically...i found this:.. image printimg;. private void form1_load(object sender, eventargs e).. {.. printimg = image.fromstream(new filestream(\"\"path\"\", filemode.open));.. printdocument print = new printdocument();.. printersettings setting = new printersettings();.. //do something.. print.printersettings = setting;.. print.printpage += print_printpage;.. print.print();.. }.. private void print_printpage(object sender, printpageeventargs e).. {.. e.graphics.drawimage(printimg, new point());.. }...but which is my path?\"\\n'\n",
            " b'\"changing the div and select background colors at the same time i need your help,..how can i, using the existing code below, also change the background of the surrounding div color to #ffffc4? and then back to #ffffff?..here\\'s the html:..&lt;div class=\"\"select_wrapper\"\"&gt;&lt;select id=\"\"action\"\"&gt;&lt;/select&gt;&lt;/div&gt;...code:..var y = document.getelementsbytagname(\\'select\\');..    for (var i = 0; i &lt; y.length; i++) {..            y[i].onblur = function() {.                this.style.backgroundcolor = \\'#ffffff\\'.            }..            y[i].onfocusin = function() {.                this.style.backgroundcolor = \\'#ffffc4\\'.            }.    }//end for\"\\n'\n",
            " b'\"is it possible to split a xml string into elements in array? suppose i have xml string...string str=\"\"&lt;loan&gt;&lt;account&gt;123456&lt;/account&gt;&lt;name&gt;ramakrishna&lt;/name&gt;&lt;principle&gt;1000&lt;/principle&gt;&lt;issue_date&gt;jan-1-2013&lt;/issue_date&gt;&lt;interest_rate&gt;12%&lt;/interest_rate&gt;&lt;/loan&gt;\"\"...my output should be like..arr = [\"\"&lt;account&gt;123456&lt;/account&gt;\"\",\"\"&lt;name&gt;ramakrishna&lt;/name&gt;\"\",\"\"&lt;principle&gt;1000&lt;/principle&gt;\"\",\"\"&lt;issue_date&gt;jan-1-2013&lt;/issue_date&gt;\"\",\"\"&lt;interest_rate&gt;12%&lt;/interest_rate&gt;\"\"]\"\\n'\n",
            " b'\"method that adds elements to set always throwing custom exception ok, so i\\'ve got a method which adds elements to a list but it is always throwing my custom exception, no matter what, even when there are no elements in the set i made...private set&lt;plan&gt; planset = new hashset&lt;plan&gt;();.public plan createplan(string name) throws duplicateplan{.    plan plan = new plan(name);...    if(!planset.contains(plan)){.        planset.add(plan);.    } else {.        throw(new duplicateplan(\"\"error, duplicate plan\"\"));.    }..    return plan;.}...i\\'m thinking that my equals() and hashcode() methods are causing this. currently i\\'m using the default overridden eclipse hashcode() and equals(), this is what i\\'ve got there:..@override.public int hashcode() {.    final int prime = 31;.    int result = 1;.    result = prime * result + ((name == null) ? 0 : name.hashcode());.    return result;.}..@override.public boolean equals(object obj) {.    if (this == obj){.        return true;.    } if (obj == null){.        return false;.    } if (getclass() != obj.getclass()){.        return false;.            }.    plan other = (plan) obj;.    if (name == null) {.        if (other.name != null){.            return false;.                    }.    } else if (!name.equals(other.name)){.        return false;.            }.    return true;.}...this is what plan does:..private string name;.private set&lt;tables&gt; tablesset;...public plan(string name){.    this.name = name ;.}...here\\'s what\\'s supposed to happen if a user sets the same name in the textfield:..newplan.setonaction(new eventhandler&lt;actionevent&gt;(){.        @override.        public void handle(actionevent action){.            if(!newplan.gettext().isempty()){.                try {.                    string name = planname.gettext();.                    plan.createplan(name);.                    esquema =             esquemas.createplan(planname.gettext());.                    optionsplans.getitems().add(plan.getname());.                } catch (duplicateplan e) {.                    dialog.errordialog(planerror, duplicate);.                }.            } else {.                dialog.errordialog(empty, emptyspace);.            }.        }.    });\"\\n'\n",
            " b'\"blank streamwriter formatting issue i\\'d like to thank stackoverflow member pratap .r first because he helped me with the code.  i\\'m still have a small formating issue with one of my replace functions.  what is happening is when i replace &lt;/me&gt; it replaces with ;.  i can\\'t have the end of the row have a ; at the end...using (filestream strm = new filestream(exportfile, filemode.create)).{.    using (streamwriter writer = new streamwriter(strm)).    {.        sqlcommand cmd = new sqlcommand(sql, con);.        sqldatareader reader = cmd.executereader();..        for (int i = 0; i &lt; reader.fieldcount; i++).            writer.write((i == 0 ? \"\"\"\" : \"\"|\"\") + reader.getname(i));..        writer.write(\"\"n\"\");..        while (reader.read()).        {.            for (int i = 0; i &lt; reader.fieldcount; i++).            {.                writer.write.                (.                    (i == 0 ? \"\"\"\" : \"\"|\"\") +.                    reader[i].tostring().replace(@\"\"&lt;me&gt; \"\",\"\"\"\").                        .replace(@\"\"&lt;/me&gt;\"\", \"\"|\"\").replace(@\"\"&lt;/me&gt;\"\", \"\";\"\").                        .replace(\\'n\\', \\' \\').replace(\\'r\\', \\' \\').                );.            }..            writer.writeline();.        }..        reader.close();.    }.}..so you can see when it occurs with  it\\'s replaced with \"\";\"\".  i can\\'t have a ; end the row.  any suggestions or tips always appricated.\"\\n'\n",
            " b'\"determine if correct route was taken i\\'m developing a blank winforms app where i need to determine if a truck took a specifed route, and passed through the points in the correct order.  an example of valid routes would be as follows:..route 1.entry gate 1.scale gate entry side.scale gate exit side.exit gate 1..route 2.entry gate 2.scale gate entry side.scale gate exit side.exit gate 2..the scale gates are the same for both routes, but the entry and exit gates are what i need to worry about.  if a truck enters in through gate 1 and exits through the gate 1, then the route followed was correct.  however, if a truck enters gate 2 and exits through gate 1, then i need to send a notification...each gate has hardware configured as a read point.  when the truck passes the read point a record is created in the database with the timestamp.  i have a timer set up so that at the specified interval it retrieves a list of the valid the truck id\\'s.  it then retrieves the read points that each truck passed within a specified time period and stores those in a list as well.  what i\\'m not sure of is how to compare the \"\"correct route\"\" list with the list of read points that the truck passed.  right now i\\'m going on the basis that each truck will only make the trip once a day, and will tweak for additional trips after i get this covered...here\\'s my code for the timer..private void tmr_tick(object sender, eventargs e).    {.        int maxtime = int.parse(appsettings.getappsetting(\"\"maxtime\"\"));.        list&lt;string&gt; _assets = new list&lt;string&gt;();.        list&lt;readpoint&gt; _assetreads = new list&lt;readpoint&gt;();..        //get the list of assets to process.        dataset ds = du.executetextcommand(\"\"select distinct assetid from \"\" + .             \"\"(select a.tagid, a.assetid, a.description, rp.comments, datescanned \"\" + .             \"\"from assetsreads ar join assets a on ar.assettagid = a.assettagid \"\" + .             \"\"join readpointlocations rp on \"\" + .             \"\"ar.readpointlocationsid = rp.readpointlocationsid) as assetresult \"\" + .             \"\"order by assetid\"\");.        if (ds != null &amp;&amp; ds.tables[0].rows.count &gt; 0).        {.            foreach (datarow dr in ds.tables[0].rows).            {.                _assets.add(dr[\"\"assetid\"\"].tostring());.            }.        }..        //loop through and process the assets.        foreach (string asset in _assets).        {.            ds = du.executetextcommand(\"\"select a.tagid, a.assetid, a.description, \"\" + .                 \"\"rp.readpointlocationid, rp.comments, datescanned \"\" + .                 \"\"from assetsreads ar join assets a on ar.assettagid = a.assettagid \"\" + .                 \"\"join readpointlocations rp on \"\" + .                 \"\"ar.readpointlocationsid = rp.readpointlocationsid \"\" + .                 \"\"where a.assetid = \\'\"\" + asset + \"\"\\' order by datescanned\"\");.            if (ds != null &amp;&amp; ds.tables[0].rows.count &gt; 0).            {.                _assetreads.clear();..                foreach (datarow dr in ds.tables[0].rows).                {.                    readpoint ar = new readpoint();.                    ar.readpointlocationid = int.parse(dr[\"\"readpointlocationid\"\"].tostring());.                    ar.readpointname = dr[\"\"comments\"\"].tostring();.                    ar.datescanned = datetime.parse(dr[\"\"datescanned\"\"].tostring());.                    _assetreads.add(ar);.                }..                //check to see if the asset has been seen in the last (maxtime) minutes.                if (datetime.parse(_assetreads[0].datescanned.tostring()) &lt; datetime.now).                {.                    ///////////////////////.                    //send notification.                    ///////////////////////.                    continue;.                }..                //determine the correct route to follow.                route currentroute = null;.                foreach (route rt in _routes).                {.                    foreach (readpoint rp in rt.readpoints).                    {.                        if (_assetreads[0].readpointlocationid == rp.readpointlocationid).                        {.                            currentroute = rt;.                            break;.                        }.                    }..                    if (currentroute != null).                        break;.                }..                //check if the route was correctly followed.                if (currentroute != null).                {.                    //////////////////////////////.                    //this is where i\\'m stuck.                    //////////////////////////////.                }.            }.        }.    }\"\\n'\n",
            " b'\"multiple redirects for multiple alerts let me start by saying that i\\'m not an expert when it comes to blank, but i\\'ve done my research and can\\'t quite figure out what i\\'m doing wrong with my code. for my webpage, i\\'ve been editing a reflex related game that basically has four different alerts, based off of how quickly they press the stop button...here\\'s part of my code, which will show my redirect pages, which i\\'m not currently being redirected to. no matter which alert you receive, it takes you to the very last one which makes me wonder where i went wrong...function remark(responsetime) {.    var responsestring = \"\"\"\";.    if (responsetime &lt; 0.20) responsestring = \"\"well done!.\"\";.    window.location.href = \"\"dfgr454.php\"\";.    if (responsetime &gt;= 0.20 &amp;&amp; responsetime &lt; 0.40) responsestring = \"\"nice.\"\";.    window.location.href = \"\"fdkjgtry5.php\"\";.    if (responsetime &gt;= 0.40 &amp;&amp; responsetime &lt; 0.60) responsestring = \"\"could be better. \"\";.    window.location.href = \"\"dfg5654f.php\"\";.    if (responsetime &gt;= 0.60 &amp;&amp; responsetime &lt; 0.80) responsestring = \"\"that\\'s no good.\"\";.    window.location.href = \"\"bvcb56.php\"\";.    if (responsetime &gt;= 0.80 &amp;&amp; responsetime &lt; 1) responsestring = \"\"have you been drinking?\"\";.    window.location.href = \"\"dfgf643re.php\"\";.    if (responsetime &gt;= 1) responsestring = \"\"did you fall asleep?\"\";.    return responsestring;.}...if it helps (and i\\'m no entirely sure it will, since it didn\\'t help me), when i edited my code to try window.open instead, all of them opened at once. is there any way to stop this from happening? the alerts are coming up fine, but i want them to redirect to the specific window.location i\\'m trying to pair with them. please and thank you, any suggestions would be perfect!\"\\n'\n",
            " b'\"extracting the line which contains keyword modified the problem, i want to extract the timestamp in col2 whenever col1 has the keyword..keywords=[\"\"i can help you with that\"\", \"\"i can surely help you with that\"\", \"\"i can check and help you with that\"\", \"\"i will be more than happy to help you\"\", \"\"let me assist you on this\"\", \"\"to assist you better\"\"]..given excel data is,..    col1                                                                                                                            .1.agent enters(as arrin).2..3.i\\'ll be happy to assist you. give me a moment to review your request..4.i see that the light in your modem is blinking red. am i right ?.5.thank you for the detailed information..6.please do not worry..7.don\\'t worry johny. i can help you with that..8.let me connect this chat to the concern team to help you out with this, .  please stay connected...   col2.1. 2018-10-14 21:16:58.2. 2018-10-14 21:17:00.3. 2018-10-14 21:17:40.4. 2018-10-14 21:18:25.5. 2018-10-14 21:19:39.6. 2018-10-14 21:19:43.7. 2018-10-14 21:21:04.8. 2018-10-14 21:22:00...for example one of the keyword is present in 7th row, so the corresponding timestamp in col2 to be extracted..the required the output should be as follows, ..[out]: 2018-10-14 21:21:04..thanks in advance\"\\n'\n",
            " b'\"hover over an image so that another hover image can perform an animate so, i have this project to do for school and and partially got my answer from reveal image underneath a mask css/blank which is awesome...the thing is, i do not want the color to move when i point my mouse over to the glass.  instead, what if i have 5 small thumbnails of different colors (listing on the side of the glass), which when i point to each of them, that would be the color moving in the glass. is that possible? would someone help me please...thank you very much!\"\\n'\n",
            " b'\"prevent recursive function from causing an \"\"out of bounds\"\" error i have been working on a program to count vowels in inputted text. it uses this method to recursively add to a vowel count every time a vowel is found. however, i get an out of bounds error every time lastpos reaches negative 1. how can i get this to stop once lastpos reaches -1?..static int r_countvowels(string s, int lastpos) .{           .    switch (s.charat(lastpos)).    {  case \\'a\\': case \\'a\\':.       case \\'e\\': case \\'e\\':.       case \\'i\\': case \\'i\\':.       case \\'o\\': case \\'o\\':.       case \\'u\\': case \\'u\\': return (1 + r_countvowels(s, --lastpos));.       default: return r_countvowels(s, --lastpos);.    }.}\"\\n'\n",
            " b'\"confusing instance of not sure why when i make an instance as in 2 the complier fails and 3 succes..//instantiate class used to fill in new stock details.createstockcodedetails createstockdetailsinput = new createstockcodedetails();.createstockdetailsinput.createstockcodedetails(createnewstockcode); // (2).createstockdetailsinput.createstockdetails(createnewstockcode);  // (3)...when i name the constructor the same name as the class, it fails. why?..class createstockcodedetails extends jframe implements actionlistener {.    public void createstockdetails(string stockcode) {.        // this works   .    }.} .....class createstockcodedetails extends jframe implements actionlistener {.    public void createstockcodedetails(string stockcode) {.        // this fails. why?.    }.}\"\\n'\n",
            " b'\"displaying data from db tables in single row if values duplicated i have queried multiple tables and i am getting data . now i want to show that data in tabular form such that if ids repeated it will be in single row only...i have queried like.. query  \"\"select a.id,b.status from a a,b b .. list li = data from query;. iterator iterator = li.iterator();. while(iterator.hasnext()){.      system.out.println(id+\"\"-\"\"+status). }...i am getting data as ,..**id                 status**        .  10                  g1.  10                  g2 .  10                  g3 .  15                  g1.  16                  .  17                  g1.  17                  g2...now i wanted to show it as below (e.g. 10 is repeated 3 times so i wanted to show its 3 grades in single row, 15 once,16 no grade ,17 grade twice)..  id          statusfirst           statussecond     statusthird.  10           g1                    g2               g3.  15           g1                    na               na .  16           na                    na               na.  17           g1                    g2               na\"\\n'\n",
            " b'\"blank - getmethod returns null i have a class:..public abstract class a.{..}...and then i have b class that derives from it:..public sealed class b : a.{.    public void somemethod().    {.        var method = this.gettype().getmethod(\"\"addtext\"\");.    }..    private void addtext(string text).    {.        ....    }.}...why is getmethod returning null?\"\\n'\n",
            " b'\"blank multiprocessing variables how could i use data obtained(a variable) from a process in another process of the same project ? for example from the code below i want to use variable \"\"b\"\" in an interface for plotting and analysing that. thanks!..import time.import multiprocessing.import time.import os.import sys.import matplotlib.animation as animation.import time.import libtiepie.import numpy as np.import matplotlib.pyplot as plt.from copy import deepcopy.from printinfo import *.from math import*.import pylab.import tkinter as tk.import matplotlib.animation as animation.from tkinter import*.from tkinter import ttk.from matplotlib.backends.backend_tkagg import figurecanvastkagg, navigationtoolbar2tkagg.from matplotlib.figure import figure.from matplotlib.animation import funcanimation..def calc_square():..    k=0.    fig=plt.figure().    while k&lt;3000:..        # print library info:.        print_library_info()..        # search for devices:.        libtiepie.device_list.update()..        # try to open an oscilloscope with block measurement support:.        scp = none.        for item in libtiepie.device_list:.            if item.can_open(libtiepie.devicetype_oscilloscope):.                scp = item.open_oscilloscope().                if scp.measure_modes &amp; libtiepie.mm_block:.                    break.                else:.                    scp = none..        if scp:.            try:..                    # set measure mode:.                    scp.measure_mode = libtiepie.mm_block..                    # set sample frequency:.                    scp.sample_frequency = 5e6  # 1 mhz..                    # set record length:.                    scp.record_length = 1000  # 15000 samples..                    # set pre sample ratio:.                    scp.pre_sample_ratio = 0.1  # 0 %..                    # for all channels:.                    for ch in scp.channels:.                        # enable channel to measure it:.                        ch.enabled = true..                        # set range:.                        ch.range = 8  # 8 v..                        # set coupling:.                        ch.coupling = libtiepie.ck_acv  # dc volt..                    # set trigger timeout:.                    scp.trigger_time_out = 100e-3  # 100 ms..                    # disable all channel trigger sources:.                    for ch in scp.channels:.                        ch.trigger.enabled = false..                    # setup channel trigger:.                    ch = scp.channels[0]  # ch 1..                    # enable trigger source:.                    ch.trigger.enabled = true..                    # kind:.                    ch.trigger.kind = libtiepie.tk_risingedge  # rising edge..                    # level:.                    ch.trigger.levels[0] = 0.75  # 50 %..                    # hysteresis:.                    ch.trigger.hystereses[0] = 0.1  # 5 %..                    # print oscilloscope info:.                    #print_device_info(scp)..                    # start measurement:.                    scp.start()..                    # wait for measurement to complete:.                    while not scp.is_data_ready:.                        time.sleep(0.01)  # 10 ms delay, to save cpu time..                    # get data:.                    data = scp.get_data()..                    ax = fig.add_subplot(111).                    t = np.linspace(0, (scp.record_length/scp.sample_frequency)*1000, scp.record_length).                    a=deepcopy(data).                    a=np.transpose(a).                    b=a[:,0].                    #ax.plot(t,b).                    #plt.ion().                    #plt.show().                    #plt.pause(0.001).                    #ax.cla()..            except exception as e:.                print(\\'exception: \\' + e.message).                sys.exit(1)..            # close oscilloscope:.            del scp..        else:.            print(\\'no oscilloscope available with block measurement support!\\').        k=k+1..if __name__ == \"\"__main__\"\":..    p1 = multiprocessing.process(target=calc_square)      ..    p1.start().    # p2.start().    p1.join().    # p2.join()\"\\n'\n",
            " b'\"objectinputstream invalid stream header when i\\'m using this shipet:..inputstream fs=new fileinputstream(\"\"some_file.txt\"\");.objectinputstream is=new objectinputstream(fs);...the blank shows error:..&gt;blank.io.streamcorruptedexception: invalid stream header: 3130300a.at blank.io.objectinputstream.readstreamheader(objectinputstream.blank:857).at blank.io.objectinputstream.&lt;init&gt;(objectinputstream.blank:349)...fileinputstream works fine. datainputstream works too..the code runs in main method, and there are not any another code. i used another file, for example pom.xml, the error remained the same...i can use datainputstream instead of objectinputstream, but i don\\'t understand the cause of such behavior.\"\\n'\n",
            " b'\"given a subset of attributes on a class instance, increment one randomly i have a blank class as such:..class zoo:.  pandas = 0.  tunas = 0.  cows = 0..  #...other attributes and methods below...because of divine forces outside of my control, i cannot modify the class in any way whatsoever (yes, i realize a dictionary of animals would be better here). i would like to write code which will operate on an instance of the class, and increment a random attribute amongst the 3 shown above by 1...in essence, i\\'d like to write something like this:..import random.z = zoo().attributes = [z.pandas, z.tunas, z.cows].random.choice(attributes) += 1...of course, this doesn\\'t work. how would one go about doing this?\"\\n'\n",
            " b'\"?. invalid expression term i am follow a tutorial and getting an error. can rewrite statement: ..propertychanged?.invoke(this, new propertychangedeventargs(propertyname));...code:..public event propertychangedeventhandler propertychanged;.private void onpropertychanged([callermembername] string propertyname = null).{.    propertychanged?.invoke(this, new propertychangedeventargs(propertyname));.}\"\\n'\n",
            " b'\"im having an error on this program on the lines that i have \"\"using system;\"\", \"\"using system.io\"\", and \"\"namespace binaryfileapplication\"\". so i really don\\'t know what to do with them to make c program recognize them...using system;.using system.io;..namespace binaryfileapplication.{..class program.{..    static void main(string[] args).    {.        binarywriter bw;.        binaryreader br;.        int i = 25;.        double d = 3.14157;.        bool b = true;.        string s = \"\"i am happy\"\";..        //create the file.        try.        {.            bw = new binarywriter(new filestream(\"\"mydata\"\", filemode.create));.        }.        catch (ioexception e).        {.            console.writeline(e.message + \"\"n cannot create file.\"\");.            return;.        }..        //writing into the file.        try.        {.            bw.write(i);.            bw.write(d);.            bw.write(b);.            bw.write(s);.        }.        catch (ioexception e).        {.            console.writeline(e.message + \"\"n cannot write to file.\"\");.            return;.        }..        bw.close();..        //reading from the file.        try.        {.            br = new binaryreader(new filestream(\"\"mydata\"\", filemode.open));.        }.        catch (ioexception e).        {.            console.writeline(e.message + \"\"n cannot open file.\"\");.            return;.        }..        try.        {.            i = br.readint32();.            console.writeline(\"\"integer data: {0}\"\", i);.            d = br.readdouble();.            console.writeline(\"\"double data: {0}\"\", d);.            b = br.readboolean();.            console.writeline(\"\"boolean data: {0}\"\", b);.            s = br.readstring();.            console.writeline(\"\"string data: {0}\"\", s);.        }.        catch (ioexception e).        {.            console.writeline(e.message + \"\"n cannot read from file.\"\");.            return;.        }..        br.close();..        console.readkey();..    }..}\"\\n'\n",
            " b'\"sharing and adding to shareable code i know about sharing code using a class library(dll) but what if i want to add code to the class from multiple winforms projects? for instance in one project i created an excel class to fill cells from a recordset then save a file, etc. but now i have another project where i want to read files and the cell contents. ..this class currently resides with the original project but now of course i\\'d like to take that class and add to it from another project and still have it available for any other project. how can i do this?\"\\n'\n",
            " b'\"how to display a result in a label when i click onto a button? on my gui (graphical user interface), i have a button named enter and a label..when i click enter, i want my result to be shown in the label.  how do i do that?\"\\n'\n",
            " b'\"function concat comma separated in one single function i have this scenario:..$(\"\".table1 table tbody tr\"\").hover(.    function() {.        $(this).css(\\'background-color\\', \\'red\\');.    },.    function() {.        $(this).css(\"\"background-color\"\", \"\"\"\");.    }.);..$(\"\".table2 table tbody tr\"\").hover(.    function() {.        $(this).css(\\'background-color\\', \\'red\\');.    },.    function() {.        $(this).css(\"\"background-color\"\", \"\"\"\");.    }.);...to avoid repeating the two functions to add remove the css, i would like to isolate the common part into a function. i tried this but i guess i\\'m having some closure issues...$(\"\".table1 table tbody tr\"\").hover(.    self.setcolor(this).);..$(\"\".table2 table tbody tr\"\").hover(.    self.setcolor(this).);..self.setcolor = function(context) {.    return (.        function() {.            $(context).css(\\'background-color\\', \\'antiquewhite\\');.        },.        function() {.            $(context).css(\"\"background-color\"\", \"\"\"\");.        }.    );.};\"\\n'\n",
            " b'\"blank users can put any keybind on ther wish am try to implement one function when somebody bin ex: f4 in main menu that when he press f4 activates someting. but am wanna all keybind to be avalible that he can chosse like:..open inventory:..ex: setyoukeybindhere and then the users puts own key and its working command what am set underthat variable...hope that you understand what am try to say...edit: if(input.getkeydown(keycode.home)) like this but only where is going keycode. should the users pickup...also am need example how to do it, its visualstudio for calling mainmenu drawing but am wanna to allow users that they set any bind what they wanna.\"\\n'\n",
            " b'\"blank token, category search field like mail a little while ago i came across a blank search box that had token input like that in lions finder or mail, where the tokens have a category element that is auto completed as well as the query element. i have spent much of the day so far trying to find it, but i seem to have lost my bookmark and can\\'t find it on google. has anyone else used this or know who created it?..hope you can help..thank you :)\"\\n'], shape=(32,), dtype=string)\n"
          ]
        }
      ]
    },
    {
      "cell_type": "code",
      "source": [
        "def vect(text, label):\n",
        "  tf.expand_dims(text, -1)\n",
        "  return vectorize_layer(text), label\n",
        "\n",
        "\n",
        "train_ds = raw_train_dir.map(vect)\n",
        "test_ds = raw_test_dir.map(vect)\n",
        "val_ds = raw_valid_dir.map(vect)"
      ],
      "metadata": {
        "id": "39GWJVAS3t5p"
      },
      "execution_count": 25,
      "outputs": []
    },
    {
      "cell_type": "code",
      "source": [
        "print(next(iter(train_ds))[0])"
      ],
      "metadata": {
        "colab": {
          "base_uri": "https://localhost:8080/"
        },
        "id": "LSwwVbOp4-C-",
        "outputId": "5f830468-13bd-43aa-c1eb-57e556416654"
      },
      "execution_count": 27,
      "outputs": [
        {
          "output_type": "stream",
          "name": "stdout",
          "text": [
            "tf.Tensor(\n",
            "[[   81     4   213 ...     0     0     0]\n",
            " [  985  3097  1584 ...     0     0     0]\n",
            " [   24     4 18289 ...     0     0     0]\n",
            " ...\n",
            " [   80   449     7 ...     0     0     0]\n",
            " [   24     4   205 ...     0     0     0]\n",
            " [   16   244    30 ...     0     0     0]], shape=(32, 250), dtype=int64)\n"
          ]
        }
      ]
    },
    {
      "cell_type": "code",
      "source": [
        "AUTOTUNE = tf.data.AUTOTUNE\n",
        "\n",
        "train_ds = train_ds.cache().prefetch(buffer_size=AUTOTUNE)\n",
        "test_ds = test_ds.cache().prefetch(buffer_size=AUTOTUNE)\n",
        "val_ds = val_ds.cache().prefetch(buffer_size=AUTOTUNE)"
      ],
      "metadata": {
        "id": "OXDsl0EZ5Opt"
      },
      "execution_count": 29,
      "outputs": []
    },
    {
      "cell_type": "code",
      "source": [
        "embedding_dim = 16 # default\n",
        "\n",
        "model = tf.keras.Sequential([\n",
        "        tf.keras.layers.Embedding(max_features + 1, embedding_dim),\n",
        "        tf.keras.layers.Dropout(0.2),\n",
        "        tf.keras.layers.GlobalAveragePooling1D(),\n",
        "        tf.keras.layers.Dropout(0.2),\n",
        "        tf.keras.layers.Dense(4)\n",
        "])\n",
        "\n"
      ],
      "metadata": {
        "id": "xLNW8H-Q5wdt"
      },
      "execution_count": 30,
      "outputs": []
    },
    {
      "cell_type": "code",
      "source": [
        "model.compile(optimizer='adam', loss=tf.keras.losses.SparseCategoricalCrossentropy(from_logits=True),\n",
        "              metrics=['accuracy'])"
      ],
      "metadata": {
        "id": "8wmC5APR6tfs"
      },
      "execution_count": 32,
      "outputs": []
    },
    {
      "cell_type": "code",
      "source": [
        "epochs = 10\n",
        "\n",
        "model.fit(train_ds, validation_data=val_ds, epochs=epochs)"
      ],
      "metadata": {
        "colab": {
          "base_uri": "https://localhost:8080/"
        },
        "id": "Ubf762AX7Jns",
        "outputId": "8de1ec84-c2f5-4ea2-891f-c9c2c2989de3"
      },
      "execution_count": 33,
      "outputs": [
        {
          "output_type": "stream",
          "name": "stdout",
          "text": [
            "Epoch 1/10\n",
            "200/200 [==============================] - 7s 33ms/step - loss: 1.3790 - accuracy: 0.3262 - val_loss: 1.3670 - val_accuracy: 0.4775\n",
            "Epoch 2/10\n",
            "200/200 [==============================] - 5s 23ms/step - loss: 1.3467 - accuracy: 0.4633 - val_loss: 1.3240 - val_accuracy: 0.5319\n",
            "Epoch 3/10\n",
            "200/200 [==============================] - 4s 21ms/step - loss: 1.2887 - accuracy: 0.5462 - val_loss: 1.2594 - val_accuracy: 0.5875\n",
            "Epoch 4/10\n",
            "200/200 [==============================] - 4s 22ms/step - loss: 1.2094 - accuracy: 0.6058 - val_loss: 1.1840 - val_accuracy: 0.6375\n",
            "Epoch 5/10\n",
            "200/200 [==============================] - 4s 21ms/step - loss: 1.1191 - accuracy: 0.6658 - val_loss: 1.1072 - val_accuracy: 0.6694\n",
            "Epoch 6/10\n",
            "200/200 [==============================] - 4s 20ms/step - loss: 1.0332 - accuracy: 0.7113 - val_loss: 1.0354 - val_accuracy: 0.7000\n",
            "Epoch 7/10\n",
            "200/200 [==============================] - 4s 21ms/step - loss: 0.9511 - accuracy: 0.7514 - val_loss: 0.9717 - val_accuracy: 0.7231\n",
            "Epoch 8/10\n",
            "200/200 [==============================] - 4s 21ms/step - loss: 0.8782 - accuracy: 0.7822 - val_loss: 0.9146 - val_accuracy: 0.7356\n",
            "Epoch 9/10\n",
            "200/200 [==============================] - 4s 22ms/step - loss: 0.8128 - accuracy: 0.8075 - val_loss: 0.8659 - val_accuracy: 0.7506\n",
            "Epoch 10/10\n",
            "200/200 [==============================] - 4s 21ms/step - loss: 0.7534 - accuracy: 0.8238 - val_loss: 0.8234 - val_accuracy: 0.7631\n"
          ]
        },
        {
          "output_type": "execute_result",
          "data": {
            "text/plain": [
              "<keras.callbacks.History at 0x7f155466a810>"
            ]
          },
          "metadata": {},
          "execution_count": 33
        }
      ]
    },
    {
      "cell_type": "code",
      "source": [
        "loss, accuracy = model.evaluate(test_ds)\n",
        "\n",
        "print(loss)\n",
        "print(accuracy)"
      ],
      "metadata": {
        "colab": {
          "base_uri": "https://localhost:8080/"
        },
        "id": "auiYvEXk7wrT",
        "outputId": "e7f8a661-7a94-404b-ad33-0a28828337c8"
      },
      "execution_count": 35,
      "outputs": [
        {
          "output_type": "stream",
          "name": "stdout",
          "text": [
            "250/250 [==============================] - 3s 10ms/step - loss: 0.8542 - accuracy: 0.7406\n",
            "0.8541976809501648\n",
            "0.7406250238418579\n"
          ]
        }
      ]
    },
    {
      "cell_type": "markdown",
      "source": [
        "we can observe some overtraining, but we will close eyes on that"
      ],
      "metadata": {
        "id": "76V6Kfgx8Eft"
      }
    },
    {
      "cell_type": "code",
      "source": [
        "export_model = tf.keras.Sequential([\n",
        "                vectorize_layer,\n",
        "                model,\n",
        "                tf.keras.layers.Activation('sigmoid')\n",
        "])\n",
        "\n",
        "export_model.compile(loss=tf.keras.losses.SparseCategoricalCrossentropy(),\n",
        "                     optimizer='adam', metrics=['accuracy'])\n",
        "\n"
      ],
      "metadata": {
        "id": "0RTcxxHx8RTt"
      },
      "execution_count": 36,
      "outputs": []
    },
    {
      "cell_type": "code",
      "source": [
        "loss, accuracy = export_model.evaluate(raw_test_dir)\n",
        "\n"
      ],
      "metadata": {
        "colab": {
          "base_uri": "https://localhost:8080/"
        },
        "id": "8FAZttJO-Q_I",
        "outputId": "131edb57-84c0-4286-d319-f8d3a0acc102"
      },
      "execution_count": 40,
      "outputs": [
        {
          "output_type": "stream",
          "name": "stdout",
          "text": [
            "250/250 [==============================] - 3s 12ms/step - loss: 0.8542 - accuracy: 0.7406\n"
          ]
        }
      ]
    },
    {
      "cell_type": "code",
      "source": [
        "example = [\"how does streamreader read all chars, including 0x0d 0x0a chars? how does streamreader read all chars, including 0x0d 0x0a chars?..i have an old .txt file i am trying to covert.  many lines (but not all) end with 0x0d 0x0d 0x0a.  ..this code reads all of the lines. ..streamreader srfile = new streamreader(gstpathfilename);.while (!srfile.endofstream) {.    string stfilecontents = srfile.readline();.    ....}...this results in extra strings between each .txt line\"]\n",
        "\n",
        "export_model.predict(example)"
      ],
      "metadata": {
        "colab": {
          "base_uri": "https://localhost:8080/"
        },
        "id": "mW-G6mW99aDs",
        "outputId": "5c7970ca-afd0-46d3-f5d5-4d613994f790"
      },
      "execution_count": 44,
      "outputs": [
        {
          "output_type": "execute_result",
          "data": {
            "text/plain": [
              "array([[0.59661114, 0.4849414 , 0.37768006, 0.52548957]], dtype=float32)"
            ]
          },
          "metadata": {},
          "execution_count": 44
        }
      ]
    },
    {
      "cell_type": "code",
      "source": [
        "model.save_weights(\"/content/export/checkpoint-0000.cpkt\")\n",
        "export_model.save_weights(\"/content/export/export-checkpoint-0000.ckpt\")"
      ],
      "metadata": {
        "id": "bcO26elpAkwl"
      },
      "execution_count": 48,
      "outputs": []
    }
  ]
}